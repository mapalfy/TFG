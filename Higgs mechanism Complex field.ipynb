{
 "cells": [
  {
   "cell_type": "code",
   "execution_count": 58,
   "id": "7d9b320d",
   "metadata": {},
   "outputs": [],
   "source": [
    "import sympy"
   ]
  },
  {
   "cell_type": "code",
   "execution_count": 59,
   "id": "7ede8bdd",
   "metadata": {},
   "outputs": [],
   "source": [
    "φ0, φ1, φ2 = symbols('φ_0 φ_1 φ_2', real=True)\n",
    "μ, λ = symbols('μ λ', real=True, positive=True)"
   ]
  },
  {
   "cell_type": "code",
   "execution_count": 60,
   "id": "65a06523",
   "metadata": {},
   "outputs": [],
   "source": [
    "# Definimos el campo complejo con el que vamos a trabajar\n",
    "φ = φ0 + 1/sqrt(2)*(φ1 + I*φ2)"
   ]
  },
  {
   "cell_type": "code",
   "execution_count": 61,
   "id": "7dcda686",
   "metadata": {},
   "outputs": [
    {
     "data": {
      "text/latex": [
       "$\\displaystyle \\frac{λ \\left(φ_{0} + \\frac{\\sqrt{2} \\left(φ_{1} - i φ_{2}\\right)}{2}\\right)^{2} \\left(φ_{0} + \\frac{\\sqrt{2} \\left(φ_{1} + i φ_{2}\\right)}{2}\\right)^{2}}{2} - μ^{2} \\left(φ_{0} + \\frac{\\sqrt{2} \\left(φ_{1} - i φ_{2}\\right)}{2}\\right) \\left(φ_{0} + \\frac{\\sqrt{2} \\left(φ_{1} + i φ_{2}\\right)}{2}\\right)$"
      ],
      "text/plain": [
       "λ*(φ_0 + sqrt(2)*(φ_1 - I*φ_2)/2)**2*(φ_0 + sqrt(2)*(φ_1 + I*φ_2)/2)**2/2 - μ**2*(φ_0 + sqrt(2)*(φ_1 - I*φ_2)/2)*(φ_0 + sqrt(2)*(φ_1 + I*φ_2)/2)"
      ]
     },
     "metadata": {},
     "output_type": "display_data"
    },
    {
     "data": {
      "text/latex": [
       "$\\displaystyle \\frac{λ φ_{0}^{4}}{2} + \\sqrt{2} λ φ_{0}^{3} φ_{1} + \\frac{3 λ φ_{0}^{2} φ_{1}^{2}}{2} + \\frac{λ φ_{0}^{2} φ_{2}^{2}}{2} + \\frac{\\sqrt{2} λ φ_{0} φ_{1}^{3}}{2} + \\frac{\\sqrt{2} λ φ_{0} φ_{1} φ_{2}^{2}}{2} + \\frac{λ φ_{1}^{4}}{8} + \\frac{λ φ_{1}^{2} φ_{2}^{2}}{4} + \\frac{λ φ_{2}^{4}}{8} - μ^{2} φ_{0}^{2} - \\sqrt{2} μ^{2} φ_{0} φ_{1} - \\frac{μ^{2} φ_{1}^{2}}{2} - \\frac{μ^{2} φ_{2}^{2}}{2}$"
      ],
      "text/plain": [
       "λ*φ_0**4/2 + sqrt(2)*λ*φ_0**3*φ_1 + 3*λ*φ_0**2*φ_1**2/2 + λ*φ_0**2*φ_2**2/2 + sqrt(2)*λ*φ_0*φ_1**3/2 + sqrt(2)*λ*φ_0*φ_1*φ_2**2/2 + λ*φ_1**4/8 + λ*φ_1**2*φ_2**2/4 + λ*φ_2**4/8 - μ**2*φ_0**2 - sqrt(2)*μ**2*φ_0*φ_1 - μ**2*φ_1**2/2 - μ**2*φ_2**2/2"
      ]
     },
     "execution_count": 61,
     "metadata": {},
     "output_type": "execute_result"
    }
   ],
   "source": [
    "# Definimos el potencial cuadrático \n",
    "V = - μ**2 * conjugate(φ) * φ + λ/2 * (conjugate(φ) * φ)**2\n",
    "display(V)\n",
    "# y lo operamos\n",
    "expand(V)"
   ]
  },
  {
   "cell_type": "code",
   "execution_count": 62,
   "id": "36963fd5",
   "metadata": {},
   "outputs": [
    {
     "data": {
      "text/latex": [
       "$\\displaystyle \\frac{λ \\left(\\frac{\\sqrt{2} \\left(φ_{1} - i φ_{2}\\right)}{2} + \\frac{μ}{\\sqrt{λ}}\\right)^{2} \\left(\\frac{\\sqrt{2} \\left(φ_{1} + i φ_{2}\\right)}{2} + \\frac{μ}{\\sqrt{λ}}\\right)^{2}}{2} - μ^{2} \\left(\\frac{\\sqrt{2} \\left(φ_{1} - i φ_{2}\\right)}{2} + \\frac{μ}{\\sqrt{λ}}\\right) \\left(\\frac{\\sqrt{2} \\left(φ_{1} + i φ_{2}\\right)}{2} + \\frac{μ}{\\sqrt{λ}}\\right)$"
      ],
      "text/plain": [
       "λ*(sqrt(2)*(φ_1 - I*φ_2)/2 + μ/sqrt(λ))**2*(sqrt(2)*(φ_1 + I*φ_2)/2 + μ/sqrt(λ))**2/2 - μ**2*(sqrt(2)*(φ_1 - I*φ_2)/2 + μ/sqrt(λ))*(sqrt(2)*(φ_1 + I*φ_2)/2 + μ/sqrt(λ))"
      ]
     },
     "metadata": {},
     "output_type": "display_data"
    },
    {
     "data": {
      "text/latex": [
       "$\\displaystyle \\frac{\\sqrt{2} \\sqrt{λ} μ φ_{1}^{3}}{2} + \\frac{\\sqrt{2} \\sqrt{λ} μ φ_{1} φ_{2}^{2}}{2} + \\frac{λ φ_{1}^{4}}{8} + \\frac{λ φ_{1}^{2} φ_{2}^{2}}{4} + \\frac{λ φ_{2}^{4}}{8} + μ^{2} φ_{1}^{2} - \\frac{μ^{4}}{2 λ}$"
      ],
      "text/plain": [
       "sqrt(2)*sqrt(λ)*μ*φ_1**3/2 + sqrt(2)*sqrt(λ)*μ*φ_1*φ_2**2/2 + λ*φ_1**4/8 + λ*φ_1**2*φ_2**2/4 + λ*φ_2**4/8 + μ**2*φ_1**2 - μ**4/(2*λ)"
      ]
     },
     "execution_count": 62,
     "metadata": {},
     "output_type": "execute_result"
    }
   ],
   "source": [
    "# Imponemos la condición de mínimo\n",
    "V_sust = V.subs(φ0, sqrt(μ**2/λ))\n",
    "display(V_sust)\n",
    "# y lo operamos\n",
    "expand(V_sust)"
   ]
  },
  {
   "cell_type": "code",
   "execution_count": 63,
   "id": "be352f91",
   "metadata": {},
   "outputs": [
    {
     "data": {
      "text/latex": [
       "$\\displaystyle \\operatorname{Poly}{\\left( \\frac{λ}{8} φ_{1}^{4} + \\frac{\\sqrt{2} \\sqrt{λ} μ}{2} φ_{1}^{3} + \\frac{λ}{4} φ_{1}^{2}φ_{2}^{2} + μ^{2} φ_{1}^{2} + \\frac{\\sqrt{2} \\sqrt{λ} μ}{2} φ_{1}φ_{2}^{2} + \\frac{λ}{8} φ_{2}^{4} -  \\frac{μ^{4}}{2 λ}, φ_{1}, φ_{2}, domain=\\mathtt{\\text{EX}} \\right)}$"
      ],
      "text/plain": [
       "Poly(λ/8*φ_1**4 + sqrt(2)*sqrt(λ)*μ/2*φ_1**3 + λ/4*φ_1**2*φ_2**2 + μ**2*φ_1**2 + sqrt(2)*sqrt(λ)*μ/2*φ_1*φ_2**2 + λ/8*φ_2**4 - μ**4/(2*λ), φ_1, φ_2, domain='EX')"
      ]
     },
     "metadata": {},
     "output_type": "display_data"
    }
   ],
   "source": [
    "# Convierte V_sust en una expresión dende sólo ϕ1 y ϕ2 son variables\n",
    "p = poly(V_sust, φ1, φ2)\n",
    "display(p)"
   ]
  },
  {
   "cell_type": "code",
   "execution_count": 64,
   "id": "4df53791",
   "metadata": {},
   "outputs": [
    {
     "data": {
      "text/plain": [
       "(μ**2, 0, 0)"
      ]
     },
     "execution_count": 64,
     "metadata": {},
     "output_type": "execute_result"
    }
   ],
   "source": [
    "coeff_φ2=trigsimp(p.coeff_monomial(φ2**2))\n",
    "coeff_φ1=trigsimp(p.coeff_monomial(φ1**2))\n",
    "coeff_φ1φ2=trigsimp(p.coeff_monomial(φ1*φ2))\n",
    "coeff_φ1, coeff_φ2, coeff_φ1φ2"
   ]
  },
  {
   "cell_type": "code",
   "execution_count": 65,
   "id": "7e5564d2",
   "metadata": {},
   "outputs": [
    {
     "data": {
      "text/latex": [
       "$\\displaystyle \\left[\\begin{matrix}2 μ^{2} & 0\\\\0 & 0\\end{matrix}\\right]$"
      ],
      "text/plain": [
       "Matrix([\n",
       "[2*μ**2, 0],\n",
       "[     0, 0]])"
      ]
     },
     "execution_count": 65,
     "metadata": {},
     "output_type": "execute_result"
    }
   ],
   "source": [
    "# Creamos la matriz hessiana\n",
    "M = Matrix([[2*coeff_φ1, coeff_φ1φ2], [coeff_φ1φ2, 2*coeff_φ2]])\n",
    "M\n",
    "# Determina la naturaleza de la forma cuadrática en un punto dado: \n",
    "# si todos sus autovalores son positivos, negativos o nulos, \n",
    "# la forma cuadrática es definida positiva, definida negativa o semidefinida, respectivamente."
   ]
  },
  {
   "cell_type": "code",
   "execution_count": 66,
   "id": "ba47df73",
   "metadata": {},
   "outputs": [
    {
     "data": {
      "text/plain": [
       "{2*μ**2: 1, 0: 1}"
      ]
     },
     "execution_count": 66,
     "metadata": {},
     "output_type": "execute_result"
    }
   ],
   "source": [
    "M.eigenvals()"
   ]
  },
  {
   "cell_type": "code",
   "execution_count": 67,
   "id": "8dffdcf1",
   "metadata": {},
   "outputs": [
    {
     "data": {
      "text/plain": [
       "(Matrix([\n",
       " [0, 1],\n",
       " [1, 0]]),\n",
       " Matrix([\n",
       " [0,      0],\n",
       " [0, 2*μ**2]]))"
      ]
     },
     "execution_count": 67,
     "metadata": {},
     "output_type": "execute_result"
    }
   ],
   "source": [
    "P, D = M.diagonalize()\n",
    "P, D"
   ]
  },
  {
   "cell_type": "code",
   "execution_count": 68,
   "id": "aa3c80b8",
   "metadata": {},
   "outputs": [
    {
     "data": {
      "text/plain": [
       "((0,\n",
       "  1,\n",
       "  [Matrix([\n",
       "   [0],\n",
       "   [1]])]),\n",
       " (2*μ**2,\n",
       "  1,\n",
       "  [Matrix([\n",
       "   [1],\n",
       "   [0]])]))"
      ]
     },
     "execution_count": 68,
     "metadata": {},
     "output_type": "execute_result"
    }
   ],
   "source": [
    "v1,v2=M.eigenvects()\n",
    "v1, v2"
   ]
  },
  {
   "cell_type": "code",
   "execution_count": null,
   "id": "274ab057",
   "metadata": {},
   "outputs": [],
   "source": []
  },
  {
   "cell_type": "code",
   "execution_count": null,
   "id": "dbe71fd3",
   "metadata": {},
   "outputs": [],
   "source": []
  }
 ],
 "metadata": {
  "kernelspec": {
   "display_name": "Python 3 (ipykernel)",
   "language": "python",
   "name": "python3"
  },
  "language_info": {
   "codemirror_mode": {
    "name": "ipython",
    "version": 3
   },
   "file_extension": ".py",
   "mimetype": "text/x-python",
   "name": "python",
   "nbconvert_exporter": "python",
   "pygments_lexer": "ipython3",
   "version": "3.11.5"
  }
 },
 "nbformat": 4,
 "nbformat_minor": 5
}
