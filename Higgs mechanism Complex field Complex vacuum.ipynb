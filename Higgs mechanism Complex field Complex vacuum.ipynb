{
 "cells": [
  {
   "cell_type": "code",
   "execution_count": 1,
   "id": "7d9b320d",
   "metadata": {},
   "outputs": [],
   "source": [
    "from sympy import *"
   ]
  },
  {
   "cell_type": "code",
   "execution_count": 2,
   "id": "7ede8bdd",
   "metadata": {},
   "outputs": [],
   "source": [
    "φ0 = symbols('φ0', complex=True) # no hace falta poner lo de complex, no?\n",
    "# Now we consider a COMPLEX state of minimum potential/ lowest energy state/ vacuum state/ ((NO MASS STATE (¿?)))\n",
    "φ1, φ2 = symbols('φ1 φ2', real=True)\n",
    "μ, λ = symbols('μ λ', real=True, positive=True)"
   ]
  },
  {
   "cell_type": "code",
   "execution_count": 3,
   "id": "65a06523",
   "metadata": {},
   "outputs": [],
   "source": [
    "# We define the complex field to work with\n",
    "φ = φ0 + 1/sqrt(2)*(φ1 + I*φ2)"
   ]
  },
  {
   "cell_type": "code",
   "execution_count": 7,
   "id": "7dcda686",
   "metadata": {},
   "outputs": [
    {
     "data": {
      "text/latex": [
       "$\\displaystyle \\frac{λ \\left(φ_{0} + \\frac{\\sqrt{2} \\left(φ_{1} + i φ_{2}\\right)}{2}\\right)^{2} \\left(\\frac{\\sqrt{2} \\left(φ_{1} - i φ_{2}\\right)}{2} + \\overline{φ_{0}}\\right)^{2}}{2} - μ^{2} \\left(φ_{0} + \\frac{\\sqrt{2} \\left(φ_{1} + i φ_{2}\\right)}{2}\\right) \\left(\\frac{\\sqrt{2} \\left(φ_{1} - i φ_{2}\\right)}{2} + \\overline{φ_{0}}\\right)$"
      ],
      "text/plain": [
       "λ*(φ0 + sqrt(2)*(φ1 + I*φ2)/2)**2*(sqrt(2)*(φ1 - I*φ2)/2 + conjugate(φ0))**2/2 - μ**2*(φ0 + sqrt(2)*(φ1 + I*φ2)/2)*(sqrt(2)*(φ1 - I*φ2)/2 + conjugate(φ0))"
      ]
     },
     "metadata": {},
     "output_type": "display_data"
    },
    {
     "data": {
      "text/plain": [
       "True"
      ]
     },
     "execution_count": 7,
     "metadata": {},
     "output_type": "execute_result"
    }
   ],
   "source": [
    "# We define the quadratic potential \n",
    "V = - μ**2 * conjugate(φ) * φ + λ/2 * (conjugate(φ) * φ)**2\n",
    "display(V)\n",
    "# and operate\n",
    "expr = expand(V)\n",
    "# φ0.is_complex"
   ]
  },
  {
   "cell_type": "code",
   "execution_count": 8,
   "id": "b6a72ee5",
   "metadata": {},
   "outputs": [
    {
     "data": {
      "text/latex": [
       "$\\displaystyle \\frac{λ φ_{0}^{2} φ_{1}^{2}}{4} - \\frac{i λ φ_{0}^{2} φ_{1} φ_{2}}{2} + \\frac{\\sqrt{2} λ φ_{0}^{2} φ_{1} \\overline{φ_{0}}}{2} - \\frac{λ φ_{0}^{2} φ_{2}^{2}}{4} - \\frac{\\sqrt{2} i λ φ_{0}^{2} φ_{2} \\overline{φ_{0}}}{2} + \\frac{λ φ_{0}^{2} \\overline{φ_{0}}^{2}}{2} + \\frac{\\sqrt{2} λ φ_{0} φ_{1}^{3}}{4} - \\frac{\\sqrt{2} i λ φ_{0} φ_{1}^{2} φ_{2}}{4} + λ φ_{0} φ_{1}^{2} \\overline{φ_{0}} + \\frac{\\sqrt{2} λ φ_{0} φ_{1} φ_{2}^{2}}{4} + \\frac{\\sqrt{2} λ φ_{0} φ_{1} \\overline{φ_{0}}^{2}}{2} - \\frac{\\sqrt{2} i λ φ_{0} φ_{2}^{3}}{4} + λ φ_{0} φ_{2}^{2} \\overline{φ_{0}} + \\frac{\\sqrt{2} i λ φ_{0} φ_{2} \\overline{φ_{0}}^{2}}{2} + \\frac{λ φ_{1}^{4}}{8} + \\frac{\\sqrt{2} λ φ_{1}^{3} \\overline{φ_{0}}}{4} + \\frac{λ φ_{1}^{2} φ_{2}^{2}}{4} + \\frac{\\sqrt{2} i λ φ_{1}^{2} φ_{2} \\overline{φ_{0}}}{4} + \\frac{λ φ_{1}^{2} \\overline{φ_{0}}^{2}}{4} + \\frac{\\sqrt{2} λ φ_{1} φ_{2}^{2} \\overline{φ_{0}}}{4} + \\frac{i λ φ_{1} φ_{2} \\overline{φ_{0}}^{2}}{2} + \\frac{λ φ_{2}^{4}}{8} + \\frac{\\sqrt{2} i λ φ_{2}^{3} \\overline{φ_{0}}}{4} - \\frac{λ φ_{2}^{2} \\overline{φ_{0}}^{2}}{4} - \\frac{\\sqrt{2} μ^{2} φ_{0} φ_{1}}{2} + \\frac{\\sqrt{2} i μ^{2} φ_{0} φ_{2}}{2} - μ^{2} φ_{0} \\overline{φ_{0}} - \\frac{μ^{2} φ_{1}^{2}}{2} - \\frac{\\sqrt{2} μ^{2} φ_{1} \\overline{φ_{0}}}{2} - \\frac{μ^{2} φ_{2}^{2}}{2} - \\frac{\\sqrt{2} i μ^{2} φ_{2} \\overline{φ_{0}}}{2}$"
      ],
      "text/plain": [
       "λ*φ0**2*φ1**2/4 - I*λ*φ0**2*φ1*φ2/2 + sqrt(2)*λ*φ0**2*φ1*conjugate(φ0)/2 - λ*φ0**2*φ2**2/4 - sqrt(2)*I*λ*φ0**2*φ2*conjugate(φ0)/2 + λ*φ0**2*conjugate(φ0)**2/2 + sqrt(2)*λ*φ0*φ1**3/4 - sqrt(2)*I*λ*φ0*φ1**2*φ2/4 + λ*φ0*φ1**2*conjugate(φ0) + sqrt(2)*λ*φ0*φ1*φ2**2/4 + sqrt(2)*λ*φ0*φ1*conjugate(φ0)**2/2 - sqrt(2)*I*λ*φ0*φ2**3/4 + λ*φ0*φ2**2*conjugate(φ0) + sqrt(2)*I*λ*φ0*φ2*conjugate(φ0)**2/2 + λ*φ1**4/8 + sqrt(2)*λ*φ1**3*conjugate(φ0)/4 + λ*φ1**2*φ2**2/4 + sqrt(2)*I*λ*φ1**2*φ2*conjugate(φ0)/4 + λ*φ1**2*conjugate(φ0)**2/4 + sqrt(2)*λ*φ1*φ2**2*conjugate(φ0)/4 + I*λ*φ1*φ2*conjugate(φ0)**2/2 + λ*φ2**4/8 + sqrt(2)*I*λ*φ2**3*conjugate(φ0)/4 - λ*φ2**2*conjugate(φ0)**2/4 - sqrt(2)*μ**2*φ0*φ1/2 + sqrt(2)*I*μ**2*φ0*φ2/2 - μ**2*φ0*conjugate(φ0) - μ**2*φ1**2/2 - sqrt(2)*μ**2*φ1*conjugate(φ0)/2 - μ**2*φ2**2/2 - sqrt(2)*I*μ**2*φ2*conjugate(φ0)/2"
      ]
     },
     "execution_count": 8,
     "metadata": {},
     "output_type": "execute_result"
    }
   ],
   "source": [
    "# φ0_in_parts = φ.as_real_imag()\n",
    "powsimp(expr)"
   ]
  },
  {
   "cell_type": "code",
   "execution_count": 140,
   "id": "92c3da97",
   "metadata": {},
   "outputs": [
    {
     "data": {
      "text/latex": [
       "$\\displaystyle λ \\left(φ_{0} + \\frac{\\sqrt{2} \\left(φ_{1} + i φ_{2}\\right)}{2}\\right)^{2} \\left(\\frac{\\sqrt{2} \\left(φ_{1} - i φ_{2}\\right)}{2} + \\overline{φ_{0}}\\right) \\frac{d}{d φ_{0}} \\overline{φ_{0}} + \\frac{λ \\left(2 φ_{0} + \\sqrt{2} \\left(φ_{1} + i φ_{2}\\right)\\right) \\left(\\frac{\\sqrt{2} \\left(φ_{1} - i φ_{2}\\right)}{2} + \\overline{φ_{0}}\\right)^{2}}{2} - μ^{2} \\left(φ_{0} + \\frac{\\sqrt{2} \\left(φ_{1} + i φ_{2}\\right)}{2}\\right) \\frac{d}{d φ_{0}} \\overline{φ_{0}} - μ^{2} \\left(\\frac{\\sqrt{2} \\left(φ_{1} - i φ_{2}\\right)}{2} + \\overline{φ_{0}}\\right)$"
      ],
      "text/plain": [
       "λ*(φ0 + sqrt(2)*(φ1 + I*φ2)/2)**2*(sqrt(2)*(φ1 - I*φ2)/2 + conjugate(φ0))*Derivative(conjugate(φ0), φ0) + λ*(2*φ0 + sqrt(2)*(φ1 + I*φ2))*(sqrt(2)*(φ1 - I*φ2)/2 + conjugate(φ0))**2/2 - μ**2*(φ0 + sqrt(2)*(φ1 + I*φ2)/2)*Derivative(conjugate(φ0), φ0) - μ**2*(sqrt(2)*(φ1 - I*φ2)/2 + conjugate(φ0))"
      ]
     },
     "execution_count": 140,
     "metadata": {},
     "output_type": "execute_result"
    }
   ],
   "source": [
    "derV1 = diff(V, φ0)\n",
    "# me da error derV1 = diff(V, φ)\n",
    "derV1\n",
    "# criticalpoints = solve(derV1, φ0)\n",
    "# print(\"Puntos críticos:\", criticalpoints)"
   ]
  },
  {
   "cell_type": "code",
   "execution_count": 141,
   "id": "78edf916",
   "metadata": {},
   "outputs": [
    {
     "data": {
      "text/plain": [
       "[sqrt(2)*(-φ1 - I*φ2)/2,\n",
       " (sqrt(2)*sqrt(λ)*(-φ1 - I*φ2)/2 - μ)/sqrt(λ),\n",
       " (-sqrt(2)*sqrt(λ)*(φ1 + I*φ2)/2 + μ)/sqrt(λ)]"
      ]
     },
     "metadata": {},
     "output_type": "display_data"
    }
   ],
   "source": [
    "eq = -μ**2+λ*φ**2\n",
    "eq_2 = 2*φ\n",
    "der_V_1 = 2*φ * (-μ**2+λ*φ**2)\n",
    "\n",
    "complex_roots = solve(eq, φ0)\n",
    "mnm = solve(eq_2, φ0)\n",
    "mnms = solve (der_V_1, φ0)\n",
    "\n",
    "#display(complex_roots[0])\n",
    "#display(complex_roots[1])\n",
    "display(mnms)"
   ]
  },
  {
   "cell_type": "code",
   "execution_count": 142,
   "id": "05962a0e",
   "metadata": {},
   "outputs": [
    {
     "data": {
      "text/plain": [
       "[]"
      ]
     },
     "execution_count": 142,
     "metadata": {},
     "output_type": "execute_result"
    }
   ],
   "source": [
    "#φ0 = sqrt(μ**2/λ)\n",
    "#solve(eq, φ0)"
   ]
  },
  {
   "cell_type": "code",
   "execution_count": 145,
   "id": "4bcf04bc",
   "metadata": {},
   "outputs": [
    {
     "data": {
      "text/latex": [
       "$\\displaystyle \\frac{λ \\left(φ_{0} + \\frac{\\sqrt{2} \\left(φ_{1} + i φ_{2}\\right)}{2}\\right)^{2} \\left(\\frac{\\sqrt{2} \\left(φ_{1} - i φ_{2}\\right)}{2} + \\overline{φ_{0}}\\right)^{2}}{2} - μ^{2} \\left(φ_{0} + \\frac{\\sqrt{2} \\left(φ_{1} + i φ_{2}\\right)}{2}\\right) \\left(\\frac{\\sqrt{2} \\left(φ_{1} - i φ_{2}\\right)}{2} + \\overline{φ_{0}}\\right)$"
      ],
      "text/plain": [
       "λ*(φ0 + sqrt(2)*(φ1 + I*φ2)/2)**2*(sqrt(2)*(φ1 - I*φ2)/2 + conjugate(φ0))**2/2 - μ**2*(φ0 + sqrt(2)*(φ1 + I*φ2)/2)*(sqrt(2)*(φ1 - I*φ2)/2 + conjugate(φ0))"
      ]
     },
     "metadata": {},
     "output_type": "display_data"
    },
    {
     "data": {
      "text/latex": [
       "$\\displaystyle \\frac{λ φ_{0}^{2} φ_{1}^{2}}{4} - \\frac{i λ φ_{0}^{2} φ_{1} φ_{2}}{2} + \\frac{\\sqrt{2} λ φ_{0}^{2} φ_{1} \\overline{φ_{0}}}{2} - \\frac{λ φ_{0}^{2} φ_{2}^{2}}{4} - \\frac{\\sqrt{2} i λ φ_{0}^{2} φ_{2} \\overline{φ_{0}}}{2} + \\frac{λ φ_{0}^{2} \\overline{φ_{0}}^{2}}{2} + \\frac{\\sqrt{2} λ φ_{0} φ_{1}^{3}}{4} - \\frac{\\sqrt{2} i λ φ_{0} φ_{1}^{2} φ_{2}}{4} + λ φ_{0} φ_{1}^{2} \\overline{φ_{0}} + \\frac{\\sqrt{2} λ φ_{0} φ_{1} φ_{2}^{2}}{4} + \\frac{\\sqrt{2} λ φ_{0} φ_{1} \\overline{φ_{0}}^{2}}{2} - \\frac{\\sqrt{2} i λ φ_{0} φ_{2}^{3}}{4} + λ φ_{0} φ_{2}^{2} \\overline{φ_{0}} + \\frac{\\sqrt{2} i λ φ_{0} φ_{2} \\overline{φ_{0}}^{2}}{2} + \\frac{λ φ_{1}^{4}}{8} + \\frac{\\sqrt{2} λ φ_{1}^{3} \\overline{φ_{0}}}{4} + \\frac{λ φ_{1}^{2} φ_{2}^{2}}{4} + \\frac{\\sqrt{2} i λ φ_{1}^{2} φ_{2} \\overline{φ_{0}}}{4} + \\frac{λ φ_{1}^{2} \\overline{φ_{0}}^{2}}{4} + \\frac{\\sqrt{2} λ φ_{1} φ_{2}^{2} \\overline{φ_{0}}}{4} + \\frac{i λ φ_{1} φ_{2} \\overline{φ_{0}}^{2}}{2} + \\frac{λ φ_{2}^{4}}{8} + \\frac{\\sqrt{2} i λ φ_{2}^{3} \\overline{φ_{0}}}{4} - \\frac{λ φ_{2}^{2} \\overline{φ_{0}}^{2}}{4} - \\frac{\\sqrt{2} μ^{2} φ_{0} φ_{1}}{2} + \\frac{\\sqrt{2} i μ^{2} φ_{0} φ_{2}}{2} - μ^{2} φ_{0} \\overline{φ_{0}} - \\frac{μ^{2} φ_{1}^{2}}{2} - \\frac{\\sqrt{2} μ^{2} φ_{1} \\overline{φ_{0}}}{2} - \\frac{μ^{2} φ_{2}^{2}}{2} - \\frac{\\sqrt{2} i μ^{2} φ_{2} \\overline{φ_{0}}}{2}$"
      ],
      "text/plain": [
       "λ*φ0**2*φ1**2/4 - I*λ*φ0**2*φ1*φ2/2 + sqrt(2)*λ*φ0**2*φ1*conjugate(φ0)/2 - λ*φ0**2*φ2**2/4 - sqrt(2)*I*λ*φ0**2*φ2*conjugate(φ0)/2 + λ*φ0**2*conjugate(φ0)**2/2 + sqrt(2)*λ*φ0*φ1**3/4 - sqrt(2)*I*λ*φ0*φ1**2*φ2/4 + λ*φ0*φ1**2*conjugate(φ0) + sqrt(2)*λ*φ0*φ1*φ2**2/4 + sqrt(2)*λ*φ0*φ1*conjugate(φ0)**2/2 - sqrt(2)*I*λ*φ0*φ2**3/4 + λ*φ0*φ2**2*conjugate(φ0) + sqrt(2)*I*λ*φ0*φ2*conjugate(φ0)**2/2 + λ*φ1**4/8 + sqrt(2)*λ*φ1**3*conjugate(φ0)/4 + λ*φ1**2*φ2**2/4 + sqrt(2)*I*λ*φ1**2*φ2*conjugate(φ0)/4 + λ*φ1**2*conjugate(φ0)**2/4 + sqrt(2)*λ*φ1*φ2**2*conjugate(φ0)/4 + I*λ*φ1*φ2*conjugate(φ0)**2/2 + λ*φ2**4/8 + sqrt(2)*I*λ*φ2**3*conjugate(φ0)/4 - λ*φ2**2*conjugate(φ0)**2/4 - sqrt(2)*μ**2*φ0*φ1/2 + sqrt(2)*I*μ**2*φ0*φ2/2 - μ**2*φ0*conjugate(φ0) - μ**2*φ1**2/2 - sqrt(2)*μ**2*φ1*conjugate(φ0)/2 - μ**2*φ2**2/2 - sqrt(2)*I*μ**2*φ2*conjugate(φ0)/2"
      ]
     },
     "execution_count": 145,
     "metadata": {},
     "output_type": "execute_result"
    }
   ],
   "source": [
    "# We impose the minimum condition\n",
    "V_sust = V.subs(φ0, sqrt(μ**2/λ))\n",
    "display(V_sust)\n",
    "# and operate\n",
    "expand(V_sust)"
   ]
  },
  {
   "cell_type": "code",
   "execution_count": 144,
   "id": "90e7ec8e",
   "metadata": {},
   "outputs": [
    {
     "ename": "AttributeError",
     "evalue": "'Mul' object has no attribute 're'",
     "output_type": "error",
     "traceback": [
      "\u001b[1;31m---------------------------------------------------------------------------\u001b[0m",
      "\u001b[1;31mAttributeError\u001b[0m                            Traceback (most recent call last)",
      "Cell \u001b[1;32mIn[144], line 2\u001b[0m\n\u001b[0;32m      1\u001b[0m θ \u001b[38;5;241m=\u001b[39m symbols(\u001b[38;5;124m'\u001b[39m\u001b[38;5;124mθ\u001b[39m\u001b[38;5;124m'\u001b[39m,real\u001b[38;5;241m=\u001b[39m\u001b[38;5;28;01mTrue\u001b[39;00m,positive\u001b[38;5;241m=\u001b[39m\u001b[38;5;28;01mTrue\u001b[39;00m)\n\u001b[1;32m----> 2\u001b[0m expr_1\u001b[38;5;241m=\u001b[39mexpr\u001b[38;5;241m.\u001b[39msubs(φ0\u001b[38;5;241m.\u001b[39mre,sqrt(m\u001b[38;5;241m*\u001b[39m\u001b[38;5;241m*\u001b[39m\u001b[38;5;241m2\u001b[39m\u001b[38;5;241m/\u001b[39mλ)\u001b[38;5;241m*\u001b[39mcos(θ))\n\u001b[0;32m      3\u001b[0m expr_sus\u001b[38;5;241m=\u001b[39mexpr_1\u001b[38;5;241m.\u001b[39msubs(φ0\u001b[38;5;241m.\u001b[39mim,sqrt(m\u001b[38;5;241m*\u001b[39m\u001b[38;5;241m*\u001b[39m\u001b[38;5;241m2\u001b[39m\u001b[38;5;241m/\u001b[39mλ)\u001b[38;5;241m*\u001b[39msin(θ))\n",
      "\u001b[1;31mAttributeError\u001b[0m: 'Mul' object has no attribute 're'"
     ]
    }
   ],
   "source": [
    "θ = symbols('θ',real=True,positive=True)\n",
    "expr_1=expr.subs(φ0.re,sqrt(m**2/λ)*cos(θ))\n",
    "expr_sus=expr_1.subs(φ0.im,sqrt(m**2/λ)*sin(θ))"
   ]
  },
  {
   "cell_type": "code",
   "execution_count": null,
   "id": "df09f712",
   "metadata": {},
   "outputs": [],
   "source": [
    "# Converts V_sust in an expression where only ϕ1 and ϕ2 are variables\n",
    "p = poly(V_sust, φ1, φ2)\n",
    "display(p)"
   ]
  },
  {
   "cell_type": "code",
   "execution_count": null,
   "id": "ee832f20",
   "metadata": {},
   "outputs": [],
   "source": [
    "# We extract the coefficient of a specific monomial term in a polynomial expression. \n",
    "coeff_φ1=p.coeff_monomial(φ1**2)\n",
    "coeff_φ2=p.coeff_monomial(φ2**2)\n",
    "coeff_φ1φ2=p.coeff_monomial(φ1*φ2)\n",
    "# We construct the quadratic form\n",
    "quadratic_form = coeff_φ1 *φ1**2 + coeff_φ1φ2 *φ1*φ2 + coeff_φ2 *φ2**2 \n",
    "display(quadratic_form)"
   ]
  },
  {
   "cell_type": "code",
   "execution_count": null,
   "id": "a05fa1d8",
   "metadata": {},
   "outputs": [],
   "source": [
    "# We create the hessian matrix\n",
    "M = Matrix([[2*coeff_φ1, coeff_φ1φ2], [coeff_φ1φ2, 2*coeff_φ2]])\n",
    "M\n",
    "# Determina la naturaleza de la forma cuadrática en un punto dado: \n",
    "# si todos sus autovalores son positivos, negativos o nulos, \n",
    "# la forma cuadrática es definida positiva, definida negativa o semidefinida, respectivamente."
   ]
  },
  {
   "cell_type": "code",
   "execution_count": null,
   "id": "953d3250",
   "metadata": {},
   "outputs": [],
   "source": [
    "M.eigenvals()\n",
    "# >> Directly related with the masses of the fields ϕ1 and ϕ2"
   ]
  },
  {
   "cell_type": "code",
   "execution_count": null,
   "id": "4916f801",
   "metadata": {},
   "outputs": [],
   "source": [
    "eigenvects = M.eigenvects()\n",
    "# >> These are the eigenstates that if orthogonal and joint together, compound a rotation matrix\n",
    "v1 = eigenvects[0][2][0]\n",
    "# (the final [0] is to select the first eigenvector in case there is more than one)\n",
    "v1"
   ]
  },
  {
   "cell_type": "code",
   "execution_count": null,
   "id": "e1593797",
   "metadata": {},
   "outputs": [],
   "source": [
    "v2 = eigenvects[1][2][0]\n",
    "v2"
   ]
  },
  {
   "cell_type": "code",
   "execution_count": null,
   "id": "e1b0569d",
   "metadata": {},
   "outputs": [],
   "source": [
    "# Calculation of the rotation angle\n",
    "theta = atan2(v2[1], v2[0])\n",
    "theta\n",
    "# >> As expected, since in this case having a real ϕ0 centers us in the real line "
   ]
  },
  {
   "cell_type": "code",
   "execution_count": null,
   "id": "6a0619e7",
   "metadata": {},
   "outputs": [],
   "source": [
    "# Construction of rotation matrix R\n",
    "R = Matrix([[cos(theta), -sin(theta)], [sin(theta), cos(theta)]])\n",
    "print(\"Rotation matrix R:\")\n",
    "pprint(R)"
   ]
  },
  {
   "cell_type": "code",
   "execution_count": null,
   "id": "3d4062ee",
   "metadata": {},
   "outputs": [],
   "source": [
    "P, D = M.diagonalize()\n",
    "D"
   ]
  }
 ],
 "metadata": {
  "kernelspec": {
   "display_name": "Python 3 (ipykernel)",
   "language": "python",
   "name": "python3"
  },
  "language_info": {
   "codemirror_mode": {
    "name": "ipython",
    "version": 3
   },
   "file_extension": ".py",
   "mimetype": "text/x-python",
   "name": "python",
   "nbconvert_exporter": "python",
   "pygments_lexer": "ipython3",
   "version": "3.11.5"
  }
 },
 "nbformat": 4,
 "nbformat_minor": 5
}
