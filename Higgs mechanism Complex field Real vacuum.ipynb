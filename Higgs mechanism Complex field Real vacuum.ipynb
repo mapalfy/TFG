{
 "cells": [
  {
   "cell_type": "code",
   "execution_count": 58,
   "id": "7d9b320d",
   "metadata": {},
   "outputs": [],
   "source": [
    "import sympy"
   ]
  },
  {
   "cell_type": "code",
   "execution_count": 59,
   "id": "7ede8bdd",
   "metadata": {},
   "outputs": [],
   "source": [
    "φ0, φ1, φ2 = symbols('φ_0 φ_1 φ_2', real=True)\n",
    "μ, λ = symbols('μ λ', real=True, positive=True)"
   ]
  },
  {
   "cell_type": "code",
   "execution_count": 60,
   "id": "65a06523",
   "metadata": {},
   "outputs": [],
   "source": [
    "# We define the complex field to work with\n",
    "φ = φ0 + 1/sqrt(2)*(φ1 + I*φ2)"
   ]
  },
  {
   "cell_type": "code",
   "execution_count": 61,
   "id": "7dcda686",
   "metadata": {},
   "outputs": [
    {
     "data": {
      "text/latex": [
       "$\\displaystyle \\frac{λ \\left(φ_{0} + \\frac{\\sqrt{2} \\left(φ_{1} - i φ_{2}\\right)}{2}\\right)^{2} \\left(φ_{0} + \\frac{\\sqrt{2} \\left(φ_{1} + i φ_{2}\\right)}{2}\\right)^{2}}{2} - μ^{2} \\left(φ_{0} + \\frac{\\sqrt{2} \\left(φ_{1} - i φ_{2}\\right)}{2}\\right) \\left(φ_{0} + \\frac{\\sqrt{2} \\left(φ_{1} + i φ_{2}\\right)}{2}\\right)$"
      ],
      "text/plain": [
       "λ*(φ_0 + sqrt(2)*(φ_1 - I*φ_2)/2)**2*(φ_0 + sqrt(2)*(φ_1 + I*φ_2)/2)**2/2 - μ**2*(φ_0 + sqrt(2)*(φ_1 - I*φ_2)/2)*(φ_0 + sqrt(2)*(φ_1 + I*φ_2)/2)"
      ]
     },
     "metadata": {},
     "output_type": "display_data"
    },
    {
     "data": {
      "text/latex": [
       "$\\displaystyle \\frac{λ φ_{0}^{4}}{2} + \\sqrt{2} λ φ_{0}^{3} φ_{1} + \\frac{3 λ φ_{0}^{2} φ_{1}^{2}}{2} + \\frac{λ φ_{0}^{2} φ_{2}^{2}}{2} + \\frac{\\sqrt{2} λ φ_{0} φ_{1}^{3}}{2} + \\frac{\\sqrt{2} λ φ_{0} φ_{1} φ_{2}^{2}}{2} + \\frac{λ φ_{1}^{4}}{8} + \\frac{λ φ_{1}^{2} φ_{2}^{2}}{4} + \\frac{λ φ_{2}^{4}}{8} - μ^{2} φ_{0}^{2} - \\sqrt{2} μ^{2} φ_{0} φ_{1} - \\frac{μ^{2} φ_{1}^{2}}{2} - \\frac{μ^{2} φ_{2}^{2}}{2}$"
      ],
      "text/plain": [
       "λ*φ_0**4/2 + sqrt(2)*λ*φ_0**3*φ_1 + 3*λ*φ_0**2*φ_1**2/2 + λ*φ_0**2*φ_2**2/2 + sqrt(2)*λ*φ_0*φ_1**3/2 + sqrt(2)*λ*φ_0*φ_1*φ_2**2/2 + λ*φ_1**4/8 + λ*φ_1**2*φ_2**2/4 + λ*φ_2**4/8 - μ**2*φ_0**2 - sqrt(2)*μ**2*φ_0*φ_1 - μ**2*φ_1**2/2 - μ**2*φ_2**2/2"
      ]
     },
     "execution_count": 61,
     "metadata": {},
     "output_type": "execute_result"
    }
   ],
   "source": [
    "# We define the quadratic potential \n",
    "V = - μ**2 * conjugate(φ) * φ + λ/2 * (conjugate(φ) * φ)**2\n",
    "display(V)\n",
    "# and operate\n",
    "expand(V)"
   ]
  },
  {
   "cell_type": "code",
   "execution_count": 62,
   "id": "4bcf04bc",
   "metadata": {},
   "outputs": [
    {
     "data": {
      "text/latex": [
       "$\\displaystyle \\frac{λ \\left(\\frac{\\sqrt{2} \\left(φ_{1} - i φ_{2}\\right)}{2} + \\frac{μ}{\\sqrt{λ}}\\right)^{2} \\left(\\frac{\\sqrt{2} \\left(φ_{1} + i φ_{2}\\right)}{2} + \\frac{μ}{\\sqrt{λ}}\\right)^{2}}{2} - μ^{2} \\left(\\frac{\\sqrt{2} \\left(φ_{1} - i φ_{2}\\right)}{2} + \\frac{μ}{\\sqrt{λ}}\\right) \\left(\\frac{\\sqrt{2} \\left(φ_{1} + i φ_{2}\\right)}{2} + \\frac{μ}{\\sqrt{λ}}\\right)$"
      ],
      "text/plain": [
       "λ*(sqrt(2)*(φ_1 - I*φ_2)/2 + μ/sqrt(λ))**2*(sqrt(2)*(φ_1 + I*φ_2)/2 + μ/sqrt(λ))**2/2 - μ**2*(sqrt(2)*(φ_1 - I*φ_2)/2 + μ/sqrt(λ))*(sqrt(2)*(φ_1 + I*φ_2)/2 + μ/sqrt(λ))"
      ]
     },
     "metadata": {},
     "output_type": "display_data"
    },
    {
     "data": {
      "text/latex": [
       "$\\displaystyle \\frac{\\sqrt{2} \\sqrt{λ} μ φ_{1}^{3}}{2} + \\frac{\\sqrt{2} \\sqrt{λ} μ φ_{1} φ_{2}^{2}}{2} + \\frac{λ φ_{1}^{4}}{8} + \\frac{λ φ_{1}^{2} φ_{2}^{2}}{4} + \\frac{λ φ_{2}^{4}}{8} + μ^{2} φ_{1}^{2} - \\frac{μ^{4}}{2 λ}$"
      ],
      "text/plain": [
       "sqrt(2)*sqrt(λ)*μ*φ_1**3/2 + sqrt(2)*sqrt(λ)*μ*φ_1*φ_2**2/2 + λ*φ_1**4/8 + λ*φ_1**2*φ_2**2/4 + λ*φ_2**4/8 + μ**2*φ_1**2 - μ**4/(2*λ)"
      ]
     },
     "execution_count": 62,
     "metadata": {},
     "output_type": "execute_result"
    }
   ],
   "source": [
    "# We impose the minimum condition\n",
    "V_sust = V.subs(φ0, sqrt(μ**2/λ))\n",
    "display(V_sust)\n",
    "# and operate\n",
    "expand(V_sust)"
   ]
  },
  {
   "cell_type": "code",
   "execution_count": 63,
   "id": "df09f712",
   "metadata": {},
   "outputs": [
    {
     "data": {
      "text/latex": [
       "$\\displaystyle \\operatorname{Poly}{\\left( \\frac{λ}{8} φ_{1}^{4} + \\frac{\\sqrt{2} \\sqrt{λ} μ}{2} φ_{1}^{3} + \\frac{λ}{4} φ_{1}^{2}φ_{2}^{2} + μ^{2} φ_{1}^{2} + \\frac{\\sqrt{2} \\sqrt{λ} μ}{2} φ_{1}φ_{2}^{2} + \\frac{λ}{8} φ_{2}^{4} -  \\frac{μ^{4}}{2 λ}, φ_{1}, φ_{2}, domain=\\mathtt{\\text{EX}} \\right)}$"
      ],
      "text/plain": [
       "Poly(λ/8*φ_1**4 + sqrt(2)*sqrt(λ)*μ/2*φ_1**3 + λ/4*φ_1**2*φ_2**2 + μ**2*φ_1**2 + sqrt(2)*sqrt(λ)*μ/2*φ_1*φ_2**2 + λ/8*φ_2**4 - μ**4/(2*λ), φ_1, φ_2, domain='EX')"
      ]
     },
     "metadata": {},
     "output_type": "display_data"
    }
   ],
   "source": [
    "# Converts V_sust in an expression where only ϕ1 and ϕ2 are variables\n",
    "p = poly(V_sust, φ1, φ2)\n",
    "display(p)"
   ]
  },
  {
   "cell_type": "code",
   "execution_count": 78,
   "id": "ee832f20",
   "metadata": {},
   "outputs": [
    {
     "data": {
      "text/latex": [
       "$\\displaystyle μ^{2} φ_{1}^{2}$"
      ],
      "text/plain": [
       "μ**2*φ_1**2"
      ]
     },
     "metadata": {},
     "output_type": "display_data"
    }
   ],
   "source": [
    "# We extract the coefficient of a specific monomial term in a polynomial expression. \n",
    "coeff_φ1=p.coeff_monomial(φ1**2)\n",
    "coeff_φ2=p.coeff_monomial(φ2**2)\n",
    "coeff_φ1φ2=p.coeff_monomial(φ1*φ2)\n",
    "# We construct the quadratic form\n",
    "quadratic_form = coeff_φ1 *φ1**2 + coeff_φ1φ2 *φ1*φ2 + coeff_φ2 *φ2**2 \n",
    "display(quadratic_form)"
   ]
  },
  {
   "cell_type": "code",
   "execution_count": 65,
   "id": "a05fa1d8",
   "metadata": {},
   "outputs": [
    {
     "data": {
      "text/latex": [
       "$\\displaystyle \\left[\\begin{matrix}2 μ^{2} & 0\\\\0 & 0\\end{matrix}\\right]$"
      ],
      "text/plain": [
       "Matrix([\n",
       "[2*μ**2, 0],\n",
       "[     0, 0]])"
      ]
     },
     "execution_count": 65,
     "metadata": {},
     "output_type": "execute_result"
    }
   ],
   "source": [
    "# We create the hessian matrix\n",
    "M = Matrix([[2*coeff_φ1, coeff_φ1φ2], [coeff_φ1φ2, 2*coeff_φ2]])\n",
    "M\n",
    "# Determina la naturaleza de la forma cuadrática en un punto dado: \n",
    "# si todos sus autovalores son positivos, negativos o nulos, \n",
    "# la forma cuadrática es definida positiva, definida negativa o semidefinida, respectivamente."
   ]
  },
  {
   "cell_type": "code",
   "execution_count": 81,
   "id": "953d3250",
   "metadata": {},
   "outputs": [
    {
     "data": {
      "text/plain": [
       "{2*μ**2: 1, 0: 1}"
      ]
     },
     "metadata": {},
     "output_type": "display_data"
    }
   ],
   "source": [
    "M.eigenvals()\n",
    "# >> Directly related with the masses of the fields ϕ1 and ϕ2"
   ]
  },
  {
   "cell_type": "code",
   "execution_count": 89,
   "id": "4916f801",
   "metadata": {},
   "outputs": [
    {
     "data": {
      "text/latex": [
       "$\\displaystyle \\left[\\begin{matrix}0\\\\1\\end{matrix}\\right]$"
      ],
      "text/plain": [
       "Matrix([\n",
       "[0],\n",
       "[1]])"
      ]
     },
     "execution_count": 89,
     "metadata": {},
     "output_type": "execute_result"
    }
   ],
   "source": [
    "eigenvects = M.eigenvects()\n",
    "# >> These are the eigenstates that if orthogonal and joint together, compound a rotation matrix\n",
    "v1 = eigenvects[0][2][0]\n",
    "# (the final [0] is to select the first eigenvector in case there is more than one)\n",
    "v1"
   ]
  },
  {
   "cell_type": "code",
   "execution_count": 88,
   "id": "e1593797",
   "metadata": {},
   "outputs": [
    {
     "data": {
      "text/latex": [
       "$\\displaystyle \\left[\\begin{matrix}1\\\\0\\end{matrix}\\right]$"
      ],
      "text/plain": [
       "Matrix([\n",
       "[1],\n",
       "[0]])"
      ]
     },
     "execution_count": 88,
     "metadata": {},
     "output_type": "execute_result"
    }
   ],
   "source": [
    "v2 = eigenvects[1][2][0]\n",
    "v2"
   ]
  },
  {
   "cell_type": "code",
   "execution_count": 91,
   "id": "e1b0569d",
   "metadata": {},
   "outputs": [
    {
     "data": {
      "text/latex": [
       "$\\displaystyle 0$"
      ],
      "text/plain": [
       "0"
      ]
     },
     "execution_count": 91,
     "metadata": {},
     "output_type": "execute_result"
    }
   ],
   "source": [
    "# Calculation of the rotation angle\n",
    "theta = atan2(v2[1], v2[0])\n",
    "theta\n",
    "# >> As expected, since in this case having a real ϕ0 centers us in the real line "
   ]
  },
  {
   "cell_type": "code",
   "execution_count": 92,
   "id": "6a0619e7",
   "metadata": {},
   "outputs": [
    {
     "name": "stdout",
     "output_type": "stream",
     "text": [
      "Matriz de rotación R:\n",
      "⎡1  0⎤\n",
      "⎢    ⎥\n",
      "⎣0  1⎦\n"
     ]
    }
   ],
   "source": [
    "# Construction of rotation matrix R\n",
    "R = Matrix([[cos(theta), -sin(theta)], [sin(theta), cos(theta)]])\n",
    "print(\"Rotation matrix R:\")\n",
    "pprint(R)"
   ]
  },
  {
   "cell_type": "code",
   "execution_count": 95,
   "id": "3d4062ee",
   "metadata": {},
   "outputs": [
    {
     "data": {
      "text/latex": [
       "$\\displaystyle \\left[\\begin{matrix}0 & 0\\\\0 & 2 μ^{2}\\end{matrix}\\right]$"
      ],
      "text/plain": [
       "Matrix([\n",
       "[0,      0],\n",
       "[0, 2*μ**2]])"
      ]
     },
     "execution_count": 95,
     "metadata": {},
     "output_type": "execute_result"
    }
   ],
   "source": [
    "P, D = M.diagonalize()\n",
    "D"
   ]
  }
 ],
 "metadata": {
  "kernelspec": {
   "display_name": "Python 3 (ipykernel)",
   "language": "python",
   "name": "python3"
  },
  "language_info": {
   "codemirror_mode": {
    "name": "ipython",
    "version": 3
   },
   "file_extension": ".py",
   "mimetype": "text/x-python",
   "name": "python",
   "nbconvert_exporter": "python",
   "pygments_lexer": "ipython3",
   "version": "3.11.5"
  }
 },
 "nbformat": 4,
 "nbformat_minor": 5
}
